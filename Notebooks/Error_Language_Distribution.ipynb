{
 "cells": [
  {
   "cell_type": "code",
   "execution_count": 19,
   "metadata": {
    "pycharm": {
     "name": "#%%\n"
    }
   },
   "outputs": [
    {
     "name": "stderr",
     "output_type": "stream",
     "text": [
      "/Library/Frameworks/Python.framework/Versions/3.8/lib/python3.8/site-packages/IPython/core/interactiveshell.py:3145: DtypeWarning: Columns (2,12,13) have mixed types.Specify dtype option on import or set low_memory=False.\n",
      "  has_raised = await self.run_ast_nodes(code_ast.body, cell_name,\n"
     ]
    }
   ],
   "source": [
    "import pandas as pd\n",
    "import matplotlib.pylab as plt\n",
    "plt.rcParams['figure.dpi'] = 200\n",
    "\n",
    "col_names = [\"session\",\"date\",\"level\",\"code\",\"server_error\",\"client_error\",\"version\",\"submission_id\",\"lang\", \"email\", \"username\", \"is_test\", \"demo\", \"start\"]\n",
    "df = pd.read_csv(\"../../Data/2-logs-plain0605.csv\", names=col_names)\n",
    "df = df.iloc[1:]\n",
    "\n",
    "#Filter out the demo and start programs\n",
    "df = df.loc[df['demo'] != True]\n",
    "df = df.loc[df['start'] != True]"
   ]
  },
  {
   "cell_type": "code",
   "execution_count": 20,
   "metadata": {
    "pycharm": {
     "name": "#%%\n"
    }
   },
   "outputs": [
    {
     "name": "stdout",
     "output_type": "stream",
     "text": [
      "en       560679\n",
      "nl        94198\n",
      "-         60644\n",
      "es        10279\n",
      "fr         2159\n",
      "pt_br       731\n",
      "de          620\n",
      "it          168\n",
      "zh          153\n",
      "Name: lang, dtype: int64\n"
     ]
    }
   ],
   "source": [
    "v = df['lang'].value_counts()\n",
    "df_level_count = df[df['lang'].isin(v.index[v.gt(100)])]\n",
    "level_count = df_level_count['lang'].value_counts()\n",
    "\n",
    "print(level_count)"
   ]
  },
  {
   "cell_type": "code",
   "execution_count": 21,
   "metadata": {
    "pycharm": {
     "name": "#%%\n"
    }
   },
   "outputs": [
    {
     "name": "stdout",
     "output_type": "stream",
     "text": [
      "en    157711\n",
      "nl     18460\n",
      "-       1408\n",
      "es      1040\n",
      "fr       120\n",
      "Name: lang, dtype: int64\n"
     ]
    }
   ],
   "source": [
    "df_error_level_count = df_level_count.loc[df['server_error'] != \"None\"]\n",
    "df_error_level_count = df_error_level_count.loc[df_error_level_count['server_error'] != \"-\"]\n",
    "\n",
    "v = df_error_level_count['lang'].value_counts()\n",
    "df_error_level_count = df_error_level_count[df_error_level_count['lang'].isin(v.index[v.gt(100)])]\n",
    "error_level_count = df_error_level_count['lang'].value_counts()\n",
    "\n",
    "print(error_level_count)"
   ]
  },
  {
   "cell_type": "code",
   "execution_count": 22,
   "metadata": {
    "pycharm": {
     "name": "#%%\n"
    }
   },
   "outputs": [
    {
     "name": "stdout",
     "output_type": "stream",
     "text": [
      "    lang   Count\n",
      "0     en  560679\n",
      "1     nl   94198\n",
      "2      -   60644\n",
      "3     es   10279\n",
      "4     fr    2159\n",
      "5  pt_br     731\n",
      "6     de     620\n",
      "7     it     168\n",
      "8     zh     153\n",
      "  lang  Error count\n",
      "0   en       157711\n",
      "1   nl        18460\n",
      "2    -         1408\n",
      "3   es         1040\n",
      "4   fr          120\n"
     ]
    }
   ],
   "source": [
    "df_counts = level_count.to_frame().reset_index()\n",
    "df_counts = df_counts.rename(columns = {'index': 'lang', 'lang':'Count'})\n",
    "\n",
    "df_error_counts = error_level_count.to_frame().reset_index()\n",
    "df_error_counts = df_error_counts.rename(columns = {'index': 'lang', 'lang':'Error count'})\n",
    "\n",
    "print(df_counts)\n",
    "print(df_error_counts)"
   ]
  },
  {
   "cell_type": "code",
   "execution_count": 23,
   "metadata": {
    "pycharm": {
     "name": "#%%\n"
    }
   },
   "outputs": [
    {
     "name": "stdout",
     "output_type": "stream",
     "text": [
      "       Count  Error count  percentage\n",
      "lang                                 \n",
      "-      60644         1408    2.321747\n",
      "en    560679       157711   28.128573\n",
      "es     10279         1040   10.117716\n",
      "fr      2159          120    5.558129\n",
      "nl     94198        18460   19.597019\n"
     ]
    }
   ],
   "source": [
    "df_final = pd.merge(df_counts, df_error_counts, on = \"lang\", how = \"inner\")\n",
    "df_final['percentage'] = df_final[\"Error count\"] / df_final[\"Count\"] * 100\n",
    "df_final['lang'] = df_final['lang'].astype(str)\n",
    "\n",
    "df_final = df_final.set_index('lang')\n",
    "df_final = df_final.sort_index()\n",
    "\n",
    "print(df_final)"
   ]
  },
  {
   "cell_type": "code",
   "execution_count": null,
   "metadata": {
    "pycharm": {
     "name": "#%%\n"
    }
   },
   "outputs": [],
   "source": []
  },
  {
   "cell_type": "code",
   "execution_count": null,
   "metadata": {
    "pycharm": {
     "name": "#%%\n"
    }
   },
   "outputs": [],
   "source": []
  }
 ],
 "metadata": {
  "kernelspec": {
   "display_name": "Python 3",
   "language": "python",
   "name": "python3"
  },
  "language_info": {
   "codemirror_mode": {
    "name": "ipython",
    "version": 3
   },
   "file_extension": ".py",
   "mimetype": "text/x-python",
   "name": "python",
   "nbconvert_exporter": "python",
   "pygments_lexer": "ipython3",
   "version": "3.8.3"
  }
 },
 "nbformat": 4,
 "nbformat_minor": 4
}