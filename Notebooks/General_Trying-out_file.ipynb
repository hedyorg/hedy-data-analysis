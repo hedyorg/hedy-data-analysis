{
 "cells": [
  {
   "cell_type": "code",
   "execution_count": 60,
   "metadata": {},
   "outputs": [
    {
     "name": "stdout",
     "output_type": "stream",
     "text": [
      "Index(['session', 'date', 'level', 'code', 'server_error', 'client_error',\n",
      "       'version', 'submission_id', 'lang', 'email', 'username', 'demo',\n",
      "       'start'],\n",
      "      dtype='object')\n"
     ]
    },
    {
     "name": "stderr",
     "output_type": "stream",
     "text": [
      "/Library/Frameworks/Python.framework/Versions/3.8/lib/python3.8/site-packages/IPython/core/interactiveshell.py:3145: DtypeWarning: Columns (11,12) have mixed types.Specify dtype option on import or set low_memory=False.\n",
      "  has_raised = await self.run_ast_nodes(code_ast.body, cell_name,\n"
     ]
    }
   ],
   "source": [
    "import pandas as pd\n",
    "import matplotlib.pylab as plt\n",
    "plt.rcParams['figure.dpi'] = 200\n",
    "\n",
    "col_names = [\"session\",\"date\",\"level\",\"code\",\"server_error\",\"client_error\",\"version\",\"submission_id\",\"lang\", \"email\", \"username\", \"demo\",\"start\"]\n",
    "df = pd.read_csv(\"../../Data/2-logs-plain-0902.csv\", names=col_names)\n",
    "df = df.iloc[1:]\n",
    "\n",
    "#Filter out the demo and start programs, as well as the correct programs\n",
    "df = df.loc[(df['server_error'] != \"None\") & (df['server_error'] != \"-\")]\n",
    "df = df.loc[df['demo'] != True]\n",
    "df = df.loc[df['start'] != True]  \n",
    "print(df.columns)"
   ]
  },
  {
   "cell_type": "code",
   "execution_count": 63,
   "metadata": {},
   "outputs": [
    {
     "name": "stdout",
     "output_type": "stream",
     "text": [
      "7    1412\n",
      "Name: level, dtype: int64\n",
      "Feb 02 (bb6063)    1398\n",
      "Feb 08 (9d67dd)      14\n",
      "Name: version, dtype: int64\n",
      "2021-02-03 06:53:00    936\n",
      "2021-02-03 06:52:00    455\n",
      "2021-02-09 10:11:00     11\n",
      "2021-02-09 10:02:00      2\n",
      "2021-02-09 10:10:00      1\n",
      "2021-02-03 06:56:00      1\n",
      "2021-02-03 06:55:00      1\n",
      "2021-02-03 06:54:00      1\n",
      "2021-02-03 06:51:00      1\n",
      "2021-02-03 06:49:00      1\n",
      "2021-02-03 01:22:00      1\n",
      "2021-02-03 01:21:00      1\n",
      "Name: date, dtype: int64\n",
      "1394: specials is mutton,steak,chicken\n",
      "print 'customer: what specials to you have today?'\n",
      "print 'waiter: we have mutton, steak, chicken'\n",
      "specials is ask What would you like to have?\n",
      "if specials is steak print 'good!'\n",
      "if specials is mutton print 'tasty!'\n",
      "if specials is chicken print 'delish'\n",
      "--------------------------------------------------\n",
      "10: name is ask what is your favorate named?\n",
      "repeat 3 times print good!\n",
      " \n",
      "\n",
      "--------------------------------------------------\n",
      "2: specials is mutton,steak,chicken\n",
      "print 'customer: what specials to you have today?'\n",
      "print 'waiter: we have mutton, steak, chicken'\n",
      "specials is ask What would you like to have?\n",
      "if specials is steak print 'good!'\n",
      "if specials is mutton print 'tasty!'\n",
      "if specials is chicken print 'delish'\n",
      "\n",
      "--------------------------------------------------\n",
      "2: name is ask what is your favorate named?\n",
      "print  the word good! 5 times\n",
      "--------------------------------------------------\n",
      "2: food is mutton,steak,chicken\n",
      "print 'customer: what specials to you have today?'\n",
      "print 'waiter: we have mutton, steak, chicken'\n",
      "specials is ask What would you like to have?\n",
      "if specials is steak print 'good!'\n",
      "if specials is mutton print 'tasty!'\n",
      "if specials is chicken print 'delish'\n",
      "--------------------------------------------------\n",
      "1: name is ask what is your favorate named?\n",
      "repeat 3 times print'good!\n",
      " \n",
      "\n",
      "--------------------------------------------------\n",
      "1: name is ask what is your favorate named?\n",
      "repeat 3 times good!\n",
      " \n",
      "\n",
      "--------------------------------------------------\n"
     ]
    }
   ],
   "source": [
    "#Unexpected token Token(__ANON_11, \" print 'good!'\") at line 5, column 21.\"Expected one of: \"\t* __ANON_1\"\t* __ANON_6\"\t* _EOL\"\t* __ANON_5\"\n",
    "df = df.loc[(df[\"server_error\"].str.contains(\"__ANON_11\", na=False)) & (df[\"server_error\"].str.contains(\"good!\", na=False))]\n",
    "print(df['level'].value_counts())\n",
    "print(df['version'].value_counts())\n",
    "\n",
    "df['date'] = pd.to_datetime(df['date'])\n",
    "df['date'] = df['date'].map(lambda x: x.replace(second=0))\n",
    "df['date'] = df['date'].map(lambda x: x.replace(microsecond=0))\n",
    "print(df['date'].value_counts())\n",
    "\n",
    "temp = df['code'].value_counts()\n",
    "for index, value in temp.items():\n",
    "    print(str(value) + \": \" + str(index))\n",
    "    print(\"--------------------------------------------------\")"
   ]
  },
  {
   "cell_type": "code",
   "execution_count": null,
   "metadata": {},
   "outputs": [],
   "source": []
  }
 ],
 "metadata": {
  "kernelspec": {
   "display_name": "Python 3",
   "language": "python",
   "name": "python3"
  },
  "language_info": {
   "codemirror_mode": {
    "name": "ipython",
    "version": 3
   },
   "file_extension": ".py",
   "mimetype": "text/x-python",
   "name": "python",
   "nbconvert_exporter": "python",
   "pygments_lexer": "ipython3",
   "version": "3.8.3"
  }
 },
 "nbformat": 4,
 "nbformat_minor": 4
}
