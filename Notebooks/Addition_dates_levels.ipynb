{
 "cells": [
  {
   "cell_type": "code",
   "execution_count": 1,
   "metadata": {
    "pycharm": {
     "name": "#%%\n"
    }
   },
   "outputs": [
    {
     "name": "stderr",
     "output_type": "stream",
     "text": [
      "/Library/Frameworks/Python.framework/Versions/3.8/lib/python3.8/site-packages/IPython/core/interactiveshell.py:3145: DtypeWarning: Columns (2,12,13) have mixed types.Specify dtype option on import or set low_memory=False.\n",
      "  has_raised = await self.run_ast_nodes(code_ast.body, cell_name,\n"
     ]
    }
   ],
   "source": [
    "import pandas as pd\n",
    "import matplotlib.pylab as plt\n",
    "plt.rcParams['figure.dpi'] = 200\n",
    "\n",
    "col_names = [\"session\",\"date\",\"level\",\"code\",\"server_error\",\"client_error\",\"version\",\"submission_id\",\"lang\", \"email\", \"username\", \"is_test\", \"demo\", \"start\"]\n",
    "df = pd.read_csv(\"../../Data/2-logs-plain0605.csv\", names=col_names)\n",
    "df = df.iloc[1:]\n",
    "\n",
    "#Remove all code resulting in an error or containing the start or demo programs\n",
    "df = df.loc[(df['server_error'] == \"None\") | (df['server_error'] == \"-\")]\n",
    "df = df.loc[df['demo'] != True]\n",
    "df = df.loc[df['session'] != \"-\"]\n",
    "df = df.loc[df['start'] != True]     "
   ]
  },
  {
   "cell_type": "code",
   "execution_count": 2,
   "metadata": {
    "pycharm": {
     "name": "#%%\n"
    }
   },
   "outputs": [
    {
     "name": "stdout",
     "output_type": "stream",
     "text": [
      "                                 session                        date level  \\\n",
      "328254  64b2ec0ad3944199bea214d02d028f17  2021-03-08 14:14:19.820292     2   \n",
      "\n",
      "                                                     code server_error  \\\n",
      "328254  player1 is rock, paper, scissor\\nprint Player1...            -   \n",
      "\n",
      "       client_error          version             submission_id lang email  \\\n",
      "328254            -  Mar 04 (74f3a0)  6046313c121bf907dd9926fd   en     -   \n",
      "\n",
      "       username is_test   demo  start  \n",
      "328254     None       -  False  False  \n"
     ]
    }
   ],
   "source": [
    "df = df.sample(n=1)\n",
    "print(df)"
   ]
  },
  {
   "cell_type": "code",
   "execution_count": null,
   "metadata": {
    "pycharm": {
     "name": "#%%\n"
    }
   },
   "outputs": [],
   "source": []
  }
 ],
 "metadata": {
  "kernelspec": {
   "display_name": "Python 3",
   "language": "python",
   "name": "python3"
  },
  "language_info": {
   "codemirror_mode": {
    "name": "ipython",
    "version": 3
   },
   "file_extension": ".py",
   "mimetype": "text/x-python",
   "name": "python",
   "nbconvert_exporter": "python",
   "pygments_lexer": "ipython3",
   "version": "3.8.3"
  }
 },
 "nbformat": 4,
 "nbformat_minor": 4
}