{
 "cells": [
  {
   "cell_type": "code",
   "execution_count": 6,
   "metadata": {},
   "outputs": [
    {
     "name": "stderr",
     "output_type": "stream",
     "text": [
      "/Library/Frameworks/Python.framework/Versions/3.8/lib/python3.8/site-packages/IPython/core/interactiveshell.py:3145: DtypeWarning: Columns (3,12,13) have mixed types.Specify dtype option on import or set low_memory=False.\n",
      "  has_raised = await self.run_ast_nodes(code_ast.body, cell_name,\n"
     ]
    }
   ],
   "source": [
    "import pandas as pd\n",
    "import matplotlib.pylab as plt\n",
    "plt.rcParams['figure.dpi'] = 200\n",
    "\n",
    "col_names = [\"session\",\"date\",\"level\",\"code\",\"server_error\",\"client_error\",\"version\",\"submission_id\",\"lang\", \"email\", \"username\", \"demo\",\"start\"]\n",
    "df = pd.read_csv(\"../../Data/2-logs-plain-2.csv\", names=col_names)\n",
    "df = df.iloc[1:]\n",
    "\n",
    "#Keep all code resulting in an error and that does not contain the start or demo programs\n",
    "df = df.loc[df['demo'] != True]\n",
    "df = df.loc[df['start'] != True]\n",
    "df = df.loc[df['server_error'] != \"None\"]\n",
    "df = df.loc[df['server_error'] != \"-\"]\n",
    "df['date'] = pd.to_datetime(df['date'], format=\"%Y-%m-%d %H:%M:%S.%f\")"
   ]
  },
  {
   "cell_type": "markdown",
   "metadata": {},
   "source": [
    "## Explanatory Notes\n",
    "\n",
    "From here on it gets complicated. The goal is to get the error code for each session (user) sorted by level. Then we want to look at errors following directly unto each other and calculate the time between these errors messages. Concluding the amount of time the users took to debug the code and run again. Note: This is different then the identical code analysis! In that case we already know that the students did not bother to change the code, now we are interested in when they did."
   ]
  },
  {
   "cell_type": "code",
   "execution_count": 7,
   "metadata": {},
   "outputs": [
    {
     "name": "stdout",
     "output_type": "stream",
     "text": [
      "                                 session                       date level  \\\n",
      "152883  0002e754cb9f4d7db498006bbe739b23 2021-04-23 12:24:48.869756     1   \n",
      "152882  0002e754cb9f4d7db498006bbe739b23 2021-04-23 12:31:09.835129     1   \n",
      "226322  00042b2a9cd44ba7bad76020efbfa6bf 2021-05-24 11:05:07.589254     8   \n",
      "226321  00042b2a9cd44ba7bad76020efbfa6bf 2021-05-24 11:09:55.397825     8   \n",
      "226320  00042b2a9cd44ba7bad76020efbfa6bf 2021-05-24 11:17:23.846449     8   \n",
      "...                                  ...                        ...   ...   \n",
      "21576   fffbf5b2a6d243dc87503b8aa99268e6 2020-12-08 09:30:39.226936     4   \n",
      "21575   fffbf5b2a6d243dc87503b8aa99268e6 2020-12-08 09:32:04.175814     4   \n",
      "21574   fffbf5b2a6d243dc87503b8aa99268e6 2020-12-08 09:32:12.629509     4   \n",
      "85440   fffe40253b164c80ad6db20026c719c0 2021-03-09 08:31:57.609514     7   \n",
      "85441   fffe40253b164c80ad6db20026c719c0 2021-03-09 08:32:00.767241     7   \n",
      "\n",
      "                                                     code  \\\n",
      "152883                      print hello world \\nhello dog   \n",
      "152882  print hello world\\nprint liss thinks cherrys a...   \n",
      "226322  number is 0 \\nrepeat 10 times\\n    number is n...   \n",
      "226321  name is Elizabeth\\nguests is 0\\n    print 'wel...   \n",
      "226320  colour is ask what is your faviroute colour?\\n...   \n",
      "...                                                   ...   \n",
      "21576   print 'customer: what specials do you have tod...   \n",
      "21575   print 'customer: what specials do you have tod...   \n",
      "21574   print 'customer: what specials do you have tod...   \n",
      "85440   game is rock,paper,scissors\\nflip is game at r...   \n",
      "85441   game is rock,paper,scissors\\nflip is game at r...   \n",
      "\n",
      "                                             server_error client_error  \\\n",
      "152883  hello is not a Hedy level 1 command. Did you m...            -   \n",
      "152882  chloe is not a Hedy level 1 command. Did you m...            -   \n",
      "226322  That was correct Hedy code, but not at the rig...            -   \n",
      "226321  The code you entered is not valid Hedy code. T...            -   \n",
      "226320  The code you entered is not valid Hedy code. T...            -   \n",
      "...                                                   ...          ...   \n",
      "21576   if is not a Hedy level 3 command. Did you mean...            -   \n",
      "21575   if is not a Hedy level 3 command. Did you mean...            -   \n",
      "21574   if is not a Hedy level 3 command. Did you mean...            -   \n",
      "85440   Unexpected token Token(__ANON_10, 'print') at ...            -   \n",
      "85441   Unexpected token Token(__ANON_10, 'print') at ...            -   \n",
      "\n",
      "                version submission_id lang               email username  \\\n",
      "152883  Apr 21 (e06fe9)            en    -         l_hills2150     None   \n",
      "152882  Apr 21 (e06fe9)            en    -         l_hills2150     None   \n",
      "226322  May 23 (ebbc09)            en    -  20ahewsonimpington     None   \n",
      "226321  May 23 (ebbc09)            en    -  20ahewsonimpington     None   \n",
      "226320  May 23 (ebbc09)            en    -  20ahewsonimpington     None   \n",
      "...                 ...           ...  ...                 ...      ...   \n",
      "21576   Dec 07 (c9964c)            en    -                   -        -   \n",
      "21575   Dec 07 (c9964c)            en    -                   -        -   \n",
      "21574   Dec 07 (c9964c)            en    -                   -        -   \n",
      "85440   Mar 08 (3f629d)            en    -                None        -   \n",
      "85441   Mar 08 (3f629d)            en    -                None        -   \n",
      "\n",
      "         demo  start  size  \n",
      "152883  False  False     2  \n",
      "152882  False  False     2  \n",
      "226322  False  False     6  \n",
      "226321  False  False     6  \n",
      "226320  False  False     6  \n",
      "...       ...    ...   ...  \n",
      "21576   False  False     3  \n",
      "21575   False  False     3  \n",
      "21574   False  False     3  \n",
      "85440   False  False     2  \n",
      "85441   False  False     2  \n",
      "\n",
      "[225240 rows x 14 columns]\n"
     ]
    }
   ],
   "source": [
    "#Change of plans: Of course if there is a succesfull code run in between, this one shouldn't count!\n",
    "#Therefore, we should be merging all the data with the \n",
    "\n",
    "temp_df = df.groupby(['session', 'level']).size().to_frame('size')\n",
    "total = pd.merge(df, temp_df, left_on=['session','level'], right_on = ['session','level'])\n",
    "total = total.loc[total['size'] > 1] #There are multiple (error) registrations for this session in the level\n",
    "total = total.sort_values(by=['session', 'level', 'date'], ascending=[True, True, True])\n",
    "\n",
    "print(total)\n",
    "\n",
    "#The dataset containing everything to merge with the one keeping track of amount of mistakes\n",
    "#If there is a non-error submission within a level between two error onces it should be deleted\n",
    "#df = pd.read_csv(\"../../Data/2-logs-plain-0902.csv\", names=col_names)\n",
    "#df = df.iloc[1:]\n",
    "#df = df.loc[df['demo'] != True]\n",
    "#df = df.loc[df['start'] != True]"
   ]
  },
  {
   "cell_type": "code",
   "execution_count": 11,
   "metadata": {},
   "outputs": [
    {
     "name": "stdout",
     "output_type": "stream",
     "text": [
      "Total amount of identical (two-time) submission time: 24926\n",
      "Total amount of very fast re-submission (within 1 second): 4373\n",
      "Total amount of very fast re-submission (within 3 seconds): 7999\n",
      "Total amount of very fast re-submission (within 5 seconds): 9388\n",
      "Total amount of very fast re-submission (within 10 seconds): 12301\n"
     ]
    }
   ],
   "source": [
    "import numpy as np\n",
    "import datetime\n",
    "\n",
    "multipleErrors = df.groupby(['session', 'code']).size().to_frame('size')\n",
    "multipleErrors2 = multipleErrors.loc[multipleErrors['size'] == 2]\n",
    "multipleErrors3 = multipleErrors.loc[multipleErrors['size'] == 3]\n",
    "\n",
    "total = pd.merge(df, multipleErrors2, left_on=['session','code'], right_on = ['session','code'])\n",
    "total2 = total.loc[total['size'] == 2]\n",
    "total2 = total.sort_values(by=['session', 'date'], ascending=[True, True])\n",
    "timeDifferences = []\n",
    "i = 0\n",
    "temp = None\n",
    "\n",
    "for index, row in total2.iterrows():\n",
    "    if i % 2 == 0:\n",
    "        temp = row['date']\n",
    "    else:\n",
    "        timeDifferences.append(row['date'] - temp)     \n",
    "    i += 1\n",
    "\n",
    "timeFrame = pd.DataFrame(timeDifferences, columns =['time'])\n",
    "print(\"Total amount of identical (two-time) submission time: \" + str(timeFrame.shape[0]))\n",
    "timeFrame['new'] = timeFrame['time'].values.astype(np.int64)\n",
    "mean = timeFrame['new'].mean()\n",
    "std = timeFrame['new'].std()"
   ]
  },
  {
   "cell_type": "code",
   "execution_count": 51,
   "metadata": {},
   "outputs": [
    {
     "name": "stdout",
     "output_type": "stream",
     "text": [
      "{0: 932, 1: 752, 2: 637, 3: 657, 4: 610, 5: 581, 6: 540, 7: 525, 8: 476, 9: 480, 10: 482, 11: 432, 12: 401, 13: 385, 14: 354, 15: 334, 16: 296, 17: 304, 18: 321, 19: 280, 20: 268, 21: 230, 22: 247, 23: 254, 24: 223, 25: 215, 26: 202, 27: 207, 28: 176}\n"
     ]
    }
   ],
   "source": [
    "#New idea: get the amount of time between two submissions\n",
    "from tqdm.notebook import tqdm\n",
    "\n",
    "data = []\n",
    "\n",
    "for i in range(1, 31):\n",
    "    data.append(timeFrame.loc[timeFrame['time'] < datetime.timedelta(seconds=i+1)].shape[0])\n",
    "    \n",
    "dict_data = {}\n",
    "    \n",
    "for i in range(0, len(data)-1):\n",
    "    dict_data[i] = data[i+1] - data[i]\n",
    "    \n",
    "print(dict_data)   "
   ]
  },
  {
   "cell_type": "code",
   "execution_count": 52,
   "metadata": {},
   "outputs": [
    {
     "data": {
      "image/png": "[encoded data removed]",
      "text/plain": [
       "<Figure size 1200x800 with 1 Axes>"
      ]
     },
     "metadata": {
      "needs_background": "light"
     },
     "output_type": "display_data"
    }
   ],
   "source": [
    "import matplotlib.pylab as plt\n",
    "plt.rcParams['figure.dpi'] = 200\n",
    "\n",
    "plt.bar(*zip(*dict_data.items()), color='green')\n",
    "plt.xlabel(\"Seconds between submissions\")\n",
    "plt.ylabel(\"Amount of server error re-submissions\")\n",
    "plt.show()"
   ]
  },
  {
   "cell_type": "code",
   "execution_count": null,
   "metadata": {},
   "outputs": [],
   "source": []
  }
 ],
 "metadata": {
  "kernelspec": {
   "display_name": "Python 3",
   "language": "python",
   "name": "python3"
  },
  "language_info": {
   "codemirror_mode": {
    "name": "ipython",
    "version": 3
   },
   "file_extension": ".py",
   "mimetype": "text/x-python",
   "name": "python",
   "nbconvert_exporter": "python",
   "pygments_lexer": "ipython3",
   "version": "3.8.3"
  }
 },
 "nbformat": 4,
 "nbformat_minor": 4
}
