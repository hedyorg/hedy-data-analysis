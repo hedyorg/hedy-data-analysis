{
 "cells": [
  {
   "cell_type": "code",
   "execution_count": 4,
   "metadata": {
    "pycharm": {
     "name": "#%%\n"
    }
   },
   "outputs": [],
   "source": [
    "import re\n",
    "from tqdm.notebook import tqdm\n",
    "from builtins import any as b_any\n",
    "import enchant\n",
    "import pandas as pd"
   ]
  },
  {
   "cell_type": "code",
   "execution_count": 5,
   "metadata": {
    "pycharm": {
     "name": "#%%\n"
    }
   },
   "outputs": [
    {
     "data": {
      "application/vnd.jupyter.widget-view+json": {
       "model_id": "8f00030509c04dcfbf564f5045773b44",
       "version_major": 2,
       "version_minor": 0
      },
      "text/plain": [
       "HBox(children=(FloatProgress(value=0.0, max=22598.0), HTML(value='')))"
      ]
     },
     "metadata": {},
     "output_type": "display_data"
    },
    {
     "name": "stdout",
     "output_type": "stream",
     "text": [
      "\n",
      "We've deleted 1881 correct but offensive programs\n",
      "We've also deleted 6113 programs containing non-english words\n",
      "We've also deleted 10873 duplicate programs\n",
      "We've saved a total of 3731 unique programs to: level1.csv\n"
     ]
    },
    {
     "data": {
      "application/vnd.jupyter.widget-view+json": {
       "model_id": "f43df08e4b1e4dcda99f561c81910ca0",
       "version_major": 2,
       "version_minor": 0
      },
      "text/plain": [
       "HBox(children=(FloatProgress(value=0.0, max=51909.0), HTML(value='')))"
      ]
     },
     "metadata": {},
     "output_type": "display_data"
    },
    {
     "name": "stdout",
     "output_type": "stream",
     "text": [
      "\n",
      "We've deleted 2315 correct but offensive programs\n",
      "We've also deleted 11442 programs containing non-english words\n",
      "We've also deleted 26360 duplicate programs\n",
      "We've saved a total of 11792 unique programs to: level2.csv\n"
     ]
    },
    {
     "data": {
      "application/vnd.jupyter.widget-view+json": {
       "model_id": "8e5cf04313b34f43994c068f863aa625",
       "version_major": 2,
       "version_minor": 0
      },
      "text/plain": [
       "HBox(children=(FloatProgress(value=0.0, max=16226.0), HTML(value='')))"
      ]
     },
     "metadata": {},
     "output_type": "display_data"
    },
    {
     "name": "stdout",
     "output_type": "stream",
     "text": [
      "\n",
      "We've deleted 955 correct but offensive programs\n",
      "We've also deleted 5888 programs containing non-english words\n",
      "We've also deleted 6213 duplicate programs\n",
      "We've saved a total of 3170 unique programs to: level3.csv\n"
     ]
    },
    {
     "data": {
      "application/vnd.jupyter.widget-view+json": {
       "model_id": "a101f858dba940cda3303d47662f95de",
       "version_major": 2,
       "version_minor": 0
      },
      "text/plain": [
       "HBox(children=(FloatProgress(value=0.0, max=11721.0), HTML(value='')))"
      ]
     },
     "metadata": {},
     "output_type": "display_data"
    },
    {
     "name": "stdout",
     "output_type": "stream",
     "text": [
      "\n",
      "We've deleted 882 correct but offensive programs\n",
      "We've also deleted 7077 programs containing non-english words\n",
      "We've also deleted 1910 duplicate programs\n",
      "We've saved a total of 1852 unique programs to: level4.csv\n"
     ]
    },
    {
     "data": {
      "application/vnd.jupyter.widget-view+json": {
       "model_id": "b7e653e0d31144c984f1369a3c217bc9",
       "version_major": 2,
       "version_minor": 0
      },
      "text/plain": [
       "HBox(children=(FloatProgress(value=0.0, max=9805.0), HTML(value='')))"
      ]
     },
     "metadata": {},
     "output_type": "display_data"
    },
    {
     "name": "stdout",
     "output_type": "stream",
     "text": [
      "\n",
      "We've deleted 947 correct but offensive programs\n",
      "We've also deleted 5312 programs containing non-english words\n",
      "We've also deleted 1819 duplicate programs\n",
      "We've saved a total of 1727 unique programs to: level5.csv\n"
     ]
    },
    {
     "data": {
      "application/vnd.jupyter.widget-view+json": {
       "model_id": "b5abe78f0afe44b3b19115b268807ce8",
       "version_major": 2,
       "version_minor": 0
      },
      "text/plain": [
       "HBox(children=(FloatProgress(value=0.0, max=7957.0), HTML(value='')))"
      ]
     },
     "metadata": {},
     "output_type": "display_data"
    },
    {
     "name": "stdout",
     "output_type": "stream",
     "text": [
      "\n",
      "We've deleted 202 correct but offensive programs\n",
      "We've also deleted 4792 programs containing non-english words\n",
      "We've also deleted 1526 duplicate programs\n",
      "We've saved a total of 1437 unique programs to: level6.csv\n"
     ]
    },
    {
     "data": {
      "application/vnd.jupyter.widget-view+json": {
       "model_id": "b023cb637df74579b19123f6c5337c41",
       "version_major": 2,
       "version_minor": 0
      },
      "text/plain": [
       "HBox(children=(FloatProgress(value=0.0, max=39902.0), HTML(value='')))"
      ]
     },
     "metadata": {},
     "output_type": "display_data"
    },
    {
     "name": "stdout",
     "output_type": "stream",
     "text": [
      "\n",
      "We've deleted 618 correct but offensive programs\n",
      "We've also deleted 28906 programs containing non-english words\n",
      "We've also deleted 6126 duplicate programs\n",
      "We've saved a total of 4252 unique programs to: level7.csv\n"
     ]
    },
    {
     "data": {
      "application/vnd.jupyter.widget-view+json": {
       "model_id": "149f8302767d4a6f87d317c791f490b4",
       "version_major": 2,
       "version_minor": 0
      },
      "text/plain": [
       "HBox(children=(FloatProgress(value=0.0, max=920.0), HTML(value='')))"
      ]
     },
     "metadata": {},
     "output_type": "display_data"
    },
    {
     "name": "stdout",
     "output_type": "stream",
     "text": [
      "\n",
      "We've deleted 10 correct but offensive programs\n",
      "We've also deleted 565 programs containing non-english words\n",
      "We've also deleted 138 duplicate programs\n",
      "We've saved a total of 207 unique programs to: level8.csv\n"
     ]
    },
    {
     "data": {
      "application/vnd.jupyter.widget-view+json": {
       "model_id": "9433bec453bf4066903a2d8f39a62790",
       "version_major": 2,
       "version_minor": 0
      },
      "text/plain": [
       "HBox(children=(FloatProgress(value=0.0, max=500.0), HTML(value='')))"
      ]
     },
     "metadata": {},
     "output_type": "display_data"
    },
    {
     "name": "stdout",
     "output_type": "stream",
     "text": [
      "\n",
      "We've deleted 23 correct but offensive programs\n",
      "We've also deleted 234 programs containing non-english words\n",
      "We've also deleted 91 duplicate programs\n",
      "We've saved a total of 152 unique programs to: level9.csv\n"
     ]
    },
    {
     "data": {
      "application/vnd.jupyter.widget-view+json": {
       "model_id": "35a78f95e267480fa13eecfcb5565021",
       "version_major": 2,
       "version_minor": 0
      },
      "text/plain": [
       "HBox(children=(FloatProgress(value=0.0, max=463.0), HTML(value='')))"
      ]
     },
     "metadata": {},
     "output_type": "display_data"
    },
    {
     "name": "stdout",
     "output_type": "stream",
     "text": [
      "\n",
      "We've deleted 6 correct but offensive programs\n",
      "We've also deleted 256 programs containing non-english words\n",
      "We've also deleted 71 duplicate programs\n",
      "We've saved a total of 130 unique programs to: level10.csv\n"
     ]
    }
   ],
   "source": [
    "col_names = [\"session\",\"date\",\"level\",\"code\",\"server_error\",\"client_error\",\"version\",\"submission_id\",\"lang\", \"email\", \"username\", \"is_test\", \"demo\",\"start\"]\n",
    "\n",
    "def banned_word_check(banned, word):\n",
    "    if word in banned:\n",
    "        return True\n",
    "    return False\n",
    "    \n",
    "def personal_word_check(d, word):\n",
    "    if len(word) < 1:\n",
    "        return False\n",
    "    if not (d.check(word) or d.check(word[1:]) or d.check(word[:-1])):\n",
    "        if not (word.isalpha() or word[1:].isalpha() or word[:-1].isalpha()):\n",
    "            return True\n",
    "    return False\n",
    "\n",
    "def process_code(code, level, banned, d):\n",
    "    concepts = get_concepts(level)\n",
    "    offensive_counter = 0\n",
    "    personal_counter = 0\n",
    "    processedCode = []\n",
    "    \n",
    "    for line in tqdm(code):\n",
    "        words = line.split()\n",
    "        line = \"\"\n",
    "        for word in words:\n",
    "            if word in concepts:\n",
    "                line += word + \" \"\n",
    "            elif banned_word_check(banned, word):\n",
    "                line = None\n",
    "                offensive_counter += 1\n",
    "                break\n",
    "            elif personal_word_check(d, word):\n",
    "                line = None\n",
    "                personal_counter += 1\n",
    "                break \n",
    "            else:\n",
    "                line += re.sub(r\"[a-z|A-Z|0-9|!?,''{}]\", \"%\", word)\n",
    "                line += \" \"\n",
    "        if line:\n",
    "            line = line.split()\n",
    "            temp = \"\"\n",
    "            for processed in line:\n",
    "                if \"%\" in processed:\n",
    "                    temp += \"% \"\n",
    "                else:\n",
    "                    temp += processed + \" \"\n",
    "            line = temp\n",
    "        if not line:\n",
    "            processedCode.append(\"-\")\n",
    "        else:\n",
    "            processedCode.append(line)\n",
    "    return processedCode, offensive_counter, personal_counter\n",
    "\n",
    "def get_concepts(level):\n",
    "    if level == 1:\n",
    "        return ['print', 'ask', 'echo']\n",
    "    elif level == 2:\n",
    "        return ['print', 'ask', 'at', 'random']\n",
    "    elif level == 3:\n",
    "        return ['print', 'is', 'ask', 'at', 'random']\n",
    "    elif level == 4:\n",
    "        return ['print', 'is', 'ask', 'at', 'random', 'if', 'else']\n",
    "    elif level == 5:\n",
    "        return ['print', 'is', 'ask', 'at', 'random', 'if', 'else', 'repeat', 'times']\n",
    "    elif level in [6, 7]:\n",
    "        return ['print', 'is', 'ask', 'at', 'random', 'if', 'else', 'repeat', 'times', '+', '-', '*']\n",
    "    elif level in [8, 9, 10]:\n",
    "        return ['print', 'is', 'ask', 'at', 'random', 'if', 'else', 'for', 'in', 'range', '+', '-', '*']\n",
    "    return []\n",
    "\n",
    "def get_files(language):\n",
    "    if language == \"nl\":\n",
    "        d = enchant.Dict(\"nl_NL\")\n",
    "    elif language == \"en\":\n",
    "        d = enchant.Dict(\"en_US\")\n",
    "    else:\n",
    "        print(\"Unfortunately your selected language is currently not supported...\")\n",
    "        exit(1)\n",
    "        \n",
    "    for level in range(1, 11):\n",
    "        offensive_counter = 0\n",
    "        personal_counter = 0\n",
    "        \n",
    "        df = pd.read_csv(\"../../Data/2-logs-plain0605.csv\", names=col_names)\n",
    "        df = df.iloc[1:]\n",
    "        df = df.loc[(df['server_error'] == \"None\") | (df['server_error'] == \"-\")]\n",
    "        df = df.loc[df['demo'] != True]\n",
    "        df = df.loc[df['start'] != True]\n",
    "\n",
    "        df = df.loc[df['lang'] == language]\n",
    "        df['level'] = pd.to_numeric(df.level, errors='coerce')\n",
    "        df = df.loc[df['level'] == level]\n",
    "\n",
    "        with open(\"bad-words-\" + language + \".txt\") as f:\n",
    "            banned = f.read().splitlines()  #https://www.cs.cmu.edu/~biglou/resources/\n",
    "\n",
    "        df = df.drop_duplicates(subset=['level', 'code'], keep='first')\n",
    "        df = df[[\"code\",\"level\"]]\n",
    "        code = df['code'].values.astype('U').tolist()\n",
    "        processedCode, offensive_counter, personal_counter = process_code(code, level, banned, d)\n",
    "\n",
    "        print(\"We've deleted \" + str(offensive_counter) + \" correct but offensive programs\")\n",
    "        if language == \"nl\":\n",
    "            print(\"We've also deleted \" + str(personal_counter) + \" programs containing non-dutch words\")\n",
    "        elif language == \"en\":\n",
    "            print(\"We've also deleted \" + str(personal_counter) + \" programs containing non-english words\")\n",
    "\n",
    "        df['processed_code'] = processedCode\n",
    "        df = df.loc[df['processed_code'] != \"-\"]\n",
    "        current_amount = df.shape[0]\n",
    "        df = df.drop_duplicates(subset=['level', 'processed_code'], keep='first')\n",
    "        after_duplicate_drop_amount = df.shape[0]\n",
    "        print(\"We've also deleted \" + str(current_amount - after_duplicate_drop_amount) + \" duplicate programs\")\n",
    "        df = df.drop(['level'], axis=1)\n",
    "        #df.to_csv('level' + str(level) + '.csv', encoding='utf-8', index=False)\n",
    "\n",
    "        print(\"We've saved a total of \" + str(df.shape[0]) + \" unique programs to: level\" + str(level) + \".csv\")\n",
    "\n",
    "get_files(\"en\")"
   ]
  },
  {
   "cell_type": "code",
   "execution_count": null,
   "metadata": {
    "pycharm": {
     "name": "#%%\n"
    }
   },
   "outputs": [],
   "source": []
  }
 ],
 "metadata": {
  "kernelspec": {
   "display_name": "Python 3",
   "language": "python",
   "name": "python3"
  },
  "language_info": {
   "codemirror_mode": {
    "name": "ipython",
    "version": 3
   },
   "file_extension": ".py",
   "mimetype": "text/x-python",
   "name": "python",
   "nbconvert_exporter": "python",
   "pygments_lexer": "ipython3",
   "version": "3.8.3"
  }
 },
 "nbformat": 4,
 "nbformat_minor": 4
}